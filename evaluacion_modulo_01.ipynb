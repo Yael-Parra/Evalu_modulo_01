{
 "cells": [
  {
   "cell_type": "markdown",
   "metadata": {},
   "source": [
    "# Evaluación Intermedia Módulo 1\n",
    "------------------"
   ]
  },
  {
   "cell_type": "markdown",
   "metadata": {},
   "source": [
    "# Instrucciones:\n",
    "- Esta evaluación consta de una serie de preguntas que evalúan tu comprensión y habilidades en \n",
    "relación con listas, tuplas, diccionarios, sets y sentencias de control. \n",
    "- Tiempo asignado: 2 horas y 40 minutos. \n",
    "- Puedes usar recursos externos, incluyendo internet y materiales de referencia o tus propias \n",
    "notas. \n",
    "- Completa los ejercicios en un jupyter notebook. "
   ]
  },
  {
   "cell_type": "markdown",
   "metadata": {},
   "source": [
    "# Ejercicios \n",
    "-------------------------"
   ]
  },
  {
   "cell_type": "markdown",
   "metadata": {},
   "source": [
    "# Parte 1: Strings "
   ]
  },
  {
   "cell_type": "markdown",
   "metadata": {},
   "source": [
    "1-  Dada una cadena de texto, contar cuántas veces aparece una letra específica en ella. Usa un input para que el usuario elija la letra a buscar. \n",
    "\n",
    "    cadena = \"Python es un lenguaje de programación muy popular\" "
   ]
  },
  {
   "cell_type": "code",
   "execution_count": 13,
   "metadata": {},
   "outputs": [
    {
     "name": "stdout",
     "output_type": "stream",
     "text": [
      "La letra a aparece 4 veces en nuestra cadena de texto.\n"
     ]
    }
   ],
   "source": [
    "# Variable base en donde el usuario buscará lo que desea.\n",
    "cadena = \"Python es un lenguaje de programación muy popular\"\n",
    "# El usuario indica que letra quiere buscar\n",
    "buscar_letra = str(input(\"Escribe la letra que quieras buscar dentro de la frase: \"))\n",
    "# Contar cuantas veces aparece la letra elegida dentro de nuestra variable\n",
    "contar = cadena.count(buscar_letra)\n",
    "# Imprimir resultado\n",
    "print(\"La letra\",buscar_letra,\"aparece\",contar,\"veces en nuestra cadena de texto.\")\n",
    "\n"
   ]
  },
  {
   "cell_type": "markdown",
   "metadata": {},
   "source": [
    "2-  Escribe un programa que tome la siguiente cadena de texto y reemplace una palabra específica ,por otra palabra. La palabra a reemplazar y reemplazada deben ser elegidas por el usuario. \n",
    "\n",
    "    cadena = \"Python es genial. Python es fácil de aprender.\""
   ]
  },
  {
   "cell_type": "code",
   "execution_count": 24,
   "metadata": {},
   "outputs": [
    {
     "name": "stdout",
     "output_type": "stream",
     "text": [
      "Python es enorme. Python es fácil de aprender.\n"
     ]
    }
   ],
   "source": [
    "# Variable base en donde el usuario buscará y reemplazará lo que desee.\n",
    "cadena2 = \"Python es genial. Python es fácil de aprender.\"\n",
    "# Inputs para tener las variables de que se desea reemplazar y lo que quiere que se reemplace con. \n",
    "palabra_a_reemplazar = str(input(\"Introduce la palabra que quieras que sea reemplazada: \"))\n",
    "reemplazar_palabra_con = str(input(\"Introduce la palabra que quieras reemplazar: \"))\n",
    "# Operación de reemplazo\n",
    "cadena_reemplazada = cadena2.replace(palabra_a_reemplazar,reemplazar_palabra_con)\n",
    "print(cadena_reemplazada)\n"
   ]
  },
  {
   "cell_type": "markdown",
   "metadata": {},
   "source": [
    "3- Toma la siguiente oración y divídela en una lista de palabras. Luego, únelas nuevamente en una sola cadena de texto. \n",
    "\n",
    "    oracion = \"Esto es una oración de ejemplo\""
   ]
  },
  {
   "cell_type": "code",
   "execution_count": 173,
   "metadata": {},
   "outputs": [
    {
     "name": "stdout",
     "output_type": "stream",
     "text": [
      "<class 'str'>\n",
      "['Esto', 'es', 'una', 'oración', 'de', 'ejemplo']\n"
     ]
    }
   ],
   "source": [
    "oracion = \"Esto es una oración de ejemplo\"\n",
    "print(type(oracion))\n",
    "oracion_separada = oracion.split()\n",
    "print(oracion_separada)\n",
    "\n",
    "#VOLVER PARA REVISAR\n"
   ]
  },
  {
   "cell_type": "markdown",
   "metadata": {},
   "source": [
    "4- Desarrolla un programa que cuente cuántas palabras hay en la siguiente frase. \n",
    "\n",
    "    cadena = \"Esta es una cadena con siete palabras\""
   ]
  },
  {
   "cell_type": "code",
   "execution_count": 193,
   "metadata": {},
   "outputs": [
    {
     "data": {
      "text/plain": [
       "7"
      ]
     },
     "execution_count": 193,
     "metadata": {},
     "output_type": "execute_result"
    }
   ],
   "source": [
    "cadena3 = \"Esta es una cadena con siete palabras\"\n",
    "recuento = cadena3.split()\n",
    "len(recuento)\n"
   ]
  },
  {
   "cell_type": "markdown",
   "metadata": {},
   "source": [
    "5- Escribe un programa que invierta una cadena de texto dada por un usuario. Mira el siguiente \n",
    "ejemplo para entender lo que se pide: \n",
    "\n",
    "    #input  \n",
    "    \"Hola buenos dias\" \n",
    "    #output \n",
    "    \"dias buenos Hola "
   ]
  },
  {
   "cell_type": "code",
   "execution_count": 180,
   "metadata": {},
   "outputs": [
    {
     "name": "stdout",
     "output_type": "stream",
     "text": [
      "None\n"
     ]
    }
   ],
   "source": [
    "texto = input(\"Introduce un texto de 3 palabras\")\n",
    "\n",
    "invertido = (list(texto)).reverse()\n",
    "print(invertido)\n",
    "\n",
    "#VOLVER PARA REVISAR\n"
   ]
  },
  {
   "cell_type": "markdown",
   "metadata": {},
   "source": [
    "6- Crea un programa que busque una palabra específica(elegida por la usuaria) en una cadena de texto e indique su posición. "
   ]
  },
  {
   "cell_type": "code",
   "execution_count": 192,
   "metadata": {},
   "outputs": [
    {
     "name": "stdout",
     "output_type": "stream",
     "text": [
      "['esta', 'es', 'la', 'cadena', 'para', 'el', 'ejercicio', '6']\n",
      "cadena\n"
     ]
    },
    {
     "data": {
      "text/plain": [
       "11"
      ]
     },
     "execution_count": 192,
     "metadata": {},
     "output_type": "execute_result"
    }
   ],
   "source": [
    "cadena4 = \"esta es la cadena para el ejercicio 6\"\n",
    "\n",
    "cadena4_separada= cadena4.split()\n",
    "print(cadena4_separada)\n",
    "\n",
    "palabra_a_buscar = str(input(\"Escribe lo que quieras buscar: \"))\n",
    "print(palabra_a_buscar)\n",
    "\n",
    "cadena4.find(palabra_a_buscar)\n",
    "\n",
    "\n",
    "\n",
    "#VOLVER PARA REVISAR"
   ]
  },
  {
   "cell_type": "markdown",
   "metadata": {},
   "source": [
    "# Parte 2: Listas"
   ]
  },
  {
   "cell_type": "markdown",
   "metadata": {},
   "source": [
    "1- Dada la siguiente lista: frutas = ['manzana', 'pera', 'banana', 'uva', 'kiwi'], realiza lo siguiente: \n",
    "\n",
    "   a) Reemplaza el segundo elemento con 'durazno'. \n",
    "\n",
    "   b) Agrega 'naranja' al final de la lista. \n",
    "   \n",
    "   c) Extrae y muestra por pantalla el tercer elemento de la lista. \n"
   ]
  },
  {
   "cell_type": "code",
   "execution_count": 89,
   "metadata": {},
   "outputs": [
    {
     "name": "stdout",
     "output_type": "stream",
     "text": [
      "['manzana', 'durazno', 'banana', 'uva', 'kiwi']\n"
     ]
    }
   ],
   "source": [
    "frutas = ['manzana', 'pera', 'banana', 'uva', 'kiwi']\n",
    "frutas [1] = \"durazno\"\n",
    "print(frutas)"
   ]
  },
  {
   "cell_type": "markdown",
   "metadata": {},
   "source": [
    "2-  Crea una lista llamada numeros que contenga los siguientes valores: 10, 25, 15, 30, 20. "
   ]
  },
  {
   "cell_type": "code",
   "execution_count": 100,
   "metadata": {},
   "outputs": [],
   "source": [
    "lista_numeros = [10,25,15,30,20]"
   ]
  },
  {
   "cell_type": "markdown",
   "metadata": {},
   "source": [
    "3- Agrega el valor 35 al incio de la lista numeros."
   ]
  },
  {
   "cell_type": "code",
   "execution_count": 101,
   "metadata": {},
   "outputs": [
    {
     "name": "stdout",
     "output_type": "stream",
     "text": [
      "[35, 10, 25, 15, 30, 20]\n"
     ]
    }
   ],
   "source": [
    "lista_numeros.insert(0,35)\n",
    "print(lista_numeros)"
   ]
  },
  {
   "cell_type": "markdown",
   "metadata": {},
   "source": [
    "4- Ordena la lista numeros en orden ascendente."
   ]
  },
  {
   "cell_type": "code",
   "execution_count": 105,
   "metadata": {},
   "outputs": [
    {
     "name": "stdout",
     "output_type": "stream",
     "text": [
      "[10, 15, 20, 25, 30, 35]\n"
     ]
    }
   ],
   "source": [
    "lista_numeros.sort()\n",
    "print(lista_numeros)"
   ]
  },
  {
   "cell_type": "markdown",
   "metadata": {},
   "source": [
    "5- Dada la siguiente lista numeros2 = [45, 22, 19, 38, 29]. Crea una nueva lista llamada numeros3 donde tengamos la unión de los todos los elementos de las dos listas (numeros y \n",
    "numeros2) de tal forma que el resultado final sea: \n",
    "\n",
    "    numeros3 = [10, 25, 15, 30, 20, 45, 22, 19, 38, 29] "
   ]
  },
  {
   "cell_type": "code",
   "execution_count": 111,
   "metadata": {},
   "outputs": [
    {
     "name": "stdout",
     "output_type": "stream",
     "text": [
      "[10, 15, 20, 25, 30, 35, 45, 22, 19, 38, 29]\n"
     ]
    }
   ],
   "source": [
    "numeros2 = [45, 22, 19, 38, 29]\n",
    "numeros3 = (lista_numeros+numeros2)\n",
    "print(numeros3)"
   ]
  },
  {
   "cell_type": "markdown",
   "metadata": {},
   "source": [
    "6- Elimina el último elemento de la lista numeros3. "
   ]
  },
  {
   "cell_type": "code",
   "execution_count": 112,
   "metadata": {},
   "outputs": [
    {
     "data": {
      "text/plain": [
       "29"
      ]
     },
     "execution_count": 112,
     "metadata": {},
     "output_type": "execute_result"
    }
   ],
   "source": [
    "numeros3.pop()"
   ]
  },
  {
   "cell_type": "markdown",
   "metadata": {},
   "source": [
    "7- Elimina el número 30 de la lista numeros3."
   ]
  },
  {
   "cell_type": "code",
   "execution_count": 113,
   "metadata": {},
   "outputs": [
    {
     "name": "stdout",
     "output_type": "stream",
     "text": [
      "[10, 15, 20, 25, 35, 45, 22, 19, 38]\n"
     ]
    }
   ],
   "source": [
    "numeros3.remove(30)\n",
    "print(numeros3)"
   ]
  },
  {
   "cell_type": "markdown",
   "metadata": {},
   "source": [
    "# Parte 3: Tuplas"
   ]
  },
  {
   "cell_type": "markdown",
   "metadata": {},
   "source": [
    "1- Crea una tupla llamada colores que contenga los siguientes valores: 'rojo', 'verde', 'azul', 'amarillo', 'morado'."
   ]
  },
  {
   "cell_type": "code",
   "execution_count": 118,
   "metadata": {},
   "outputs": [
    {
     "data": {
      "text/plain": [
       "tuple"
      ]
     },
     "execution_count": 118,
     "metadata": {},
     "output_type": "execute_result"
    }
   ],
   "source": [
    "colores = ('rojo', 'verde', 'azul', 'amarillo', 'morado')\n",
    "type (colores)"
   ]
  },
  {
   "cell_type": "markdown",
   "metadata": {},
   "source": [
    "2- Encuentra el índice de 'verde' en la tupla colores."
   ]
  },
  {
   "cell_type": "code",
   "execution_count": 119,
   "metadata": {},
   "outputs": [
    {
     "data": {
      "text/plain": [
       "1"
      ]
     },
     "execution_count": 119,
     "metadata": {},
     "output_type": "execute_result"
    }
   ],
   "source": [
    "colores.index(\"verde\")"
   ]
  },
  {
   "cell_type": "markdown",
   "metadata": {},
   "source": [
    "3- ¿Cuántas veces aparece 'azul' en la tupla colores?"
   ]
  },
  {
   "cell_type": "code",
   "execution_count": 120,
   "metadata": {},
   "outputs": [
    {
     "data": {
      "text/plain": [
       "1"
      ]
     },
     "execution_count": 120,
     "metadata": {},
     "output_type": "execute_result"
    }
   ],
   "source": [
    "colores.count(\"azul\")"
   ]
  },
  {
   "cell_type": "markdown",
   "metadata": {},
   "source": [
    "4- Añade el color \"morado\" a la tupla colores. ¿Qué ha pasado? ¿Por qué? Como podríamos añadir el elemento \"morado\". "
   ]
  },
  {
   "cell_type": "code",
   "execution_count": 126,
   "metadata": {},
   "outputs": [
    {
     "name": "stdout",
     "output_type": "stream",
     "text": [
      "['rojo', 'verde', 'azul', 'amarillo', 'morado', 'morado']\n",
      "<class 'tuple'> ('rojo', 'verde', 'azul', 'amarillo', 'morado', 'morado')\n"
     ]
    }
   ],
   "source": [
    "tupla_a_lista = list(colores)\n",
    "type(tupla_a_lista)\n",
    "\n",
    "tupla_a_lista.append(\"morado\")\n",
    "print(tupla_a_lista)\n",
    "\n",
    "lista_a_tupla = tuple(tupla_a_lista)\n",
    "print(type(lista_a_tupla),lista_a_tupla)\n",
    "\n",
    "# Una tupla no es mutable por lo que tenemos que transformarla a lista, modificar la lista y luego transformar esa lista, de nuevo a tupla."
   ]
  },
  {
   "cell_type": "markdown",
   "metadata": {},
   "source": [
    "# Parte 4: Diccionarios"
   ]
  },
  {
   "cell_type": "markdown",
   "metadata": {},
   "source": [
    "1- Crea un diccionario llamado frutas con las siguientes parejas clave-valor: \n",
    "\n",
    "     o 'manzana': 2 \n",
    "     o 'banana': 3 \n",
    "     o 'uva': 5 \n",
    "     o 'pera': 4"
   ]
  },
  {
   "cell_type": "code",
   "execution_count": 127,
   "metadata": {},
   "outputs": [
    {
     "data": {
      "text/plain": [
       "dict"
      ]
     },
     "execution_count": 127,
     "metadata": {},
     "output_type": "execute_result"
    }
   ],
   "source": [
    "frutas = {\"manzana\":2,\"banana\":3,\"uva\":5,\"pera\":4}\n",
    "type(frutas)"
   ]
  },
  {
   "cell_type": "markdown",
   "metadata": {},
   "source": [
    "2- Saca una lista de todas las frutas en el diccionario."
   ]
  },
  {
   "cell_type": "code",
   "execution_count": 128,
   "metadata": {},
   "outputs": [
    {
     "data": {
      "text/plain": [
       "dict_keys(['manzana', 'banana', 'uva', 'pera'])"
      ]
     },
     "execution_count": 128,
     "metadata": {},
     "output_type": "execute_result"
    }
   ],
   "source": [
    "frutas.keys()"
   ]
  },
  {
   "cell_type": "markdown",
   "metadata": {},
   "source": [
    "3- Saca una lista de todas las cantidades en el diccionario."
   ]
  },
  {
   "cell_type": "code",
   "execution_count": 129,
   "metadata": {},
   "outputs": [
    {
     "data": {
      "text/plain": [
       "dict_values([2, 3, 5, 4])"
      ]
     },
     "execution_count": 129,
     "metadata": {},
     "output_type": "execute_result"
    }
   ],
   "source": [
    "frutas.values()"
   ]
  },
  {
   "cell_type": "markdown",
   "metadata": {},
   "source": [
    "4- ¿Qué cantidad de 'manzana' tenemos?. Si la clave 'manzana' no está presente, devuelve un \n",
    "mensaje diciendo \"No existe esa clave\"."
   ]
  },
  {
   "cell_type": "code",
   "execution_count": 130,
   "metadata": {},
   "outputs": [
    {
     "data": {
      "text/plain": [
       "2"
      ]
     },
     "execution_count": 130,
     "metadata": {},
     "output_type": "execute_result"
    }
   ],
   "source": [
    "frutas.get(\"manzana\",\"No existe clave\")"
   ]
  },
  {
   "cell_type": "markdown",
   "metadata": {},
   "source": [
    "5- Agrega un nuevo par de clave-valor al diccionario frutas: 'kiwi' con una cantidad de 6."
   ]
  },
  {
   "cell_type": "code",
   "execution_count": 131,
   "metadata": {},
   "outputs": [
    {
     "name": "stdout",
     "output_type": "stream",
     "text": [
      "{'manzana': 2, 'banana': 3, 'uva': 5, 'pera': 4, 'kiwi': 6}\n"
     ]
    }
   ],
   "source": [
    "nueva_fruta = {\"kiwi\":6}\n",
    "frutas.update(nueva_fruta)\n",
    "print(frutas)"
   ]
  },
  {
   "cell_type": "markdown",
   "metadata": {},
   "source": [
    "6- Cambia la cantidad de 'uva' a 8."
   ]
  },
  {
   "cell_type": "code",
   "execution_count": 132,
   "metadata": {},
   "outputs": [
    {
     "name": "stdout",
     "output_type": "stream",
     "text": [
      "{'manzana': 2, 'banana': 3, 'uva': 8, 'pera': 4, 'kiwi': 6}\n"
     ]
    }
   ],
   "source": [
    "frutas[\"uva\"] = 8\n",
    "print(frutas)"
   ]
  },
  {
   "cell_type": "markdown",
   "metadata": {},
   "source": [
    "7- Crea un segundo diccionario llamado frutas_nuevas con las siguientes parejas clave-valor: \n",
    "\n",
    "     o 'sandía': 7 \n",
    "     o 'mango': 4 "
   ]
  },
  {
   "cell_type": "code",
   "execution_count": 133,
   "metadata": {},
   "outputs": [],
   "source": [
    "frutas_nuevas = {\"sandía\":7,\"mango\":4}"
   ]
  },
  {
   "cell_type": "markdown",
   "metadata": {},
   "source": [
    "8- Combinar los dos diccionarios frutas_nuevas y frutas en uno nuevos llamado frutas_total."
   ]
  },
  {
   "cell_type": "code",
   "execution_count": 143,
   "metadata": {},
   "outputs": [
    {
     "name": "stdout",
     "output_type": "stream",
     "text": [
      "{'manzana': 2, 'banana': 3, 'uva': 8, 'pera': 4, 'kiwi': 6, 'sandía': 7, 'mango': 4}\n"
     ]
    }
   ],
   "source": [
    "frutas_total = frutas | frutas_nuevas\n",
    "print(frutas_total)"
   ]
  },
  {
   "cell_type": "markdown",
   "metadata": {},
   "source": [
    "9- Elimina el último par de clave-valor del diccionario fruta_total"
   ]
  },
  {
   "cell_type": "code",
   "execution_count": 144,
   "metadata": {},
   "outputs": [
    {
     "data": {
      "text/plain": [
       "('mango', 4)"
      ]
     },
     "execution_count": 144,
     "metadata": {},
     "output_type": "execute_result"
    }
   ],
   "source": [
    "frutas_total.popitem()"
   ]
  },
  {
   "cell_type": "markdown",
   "metadata": {},
   "source": [
    "10- Elimina el par de clave-valor correspondiente a la clave 'uva' del diccionario."
   ]
  },
  {
   "cell_type": "code",
   "execution_count": 145,
   "metadata": {},
   "outputs": [
    {
     "name": "stdout",
     "output_type": "stream",
     "text": [
      "{'manzana': 2, 'banana': 3, 'pera': 4, 'kiwi': 6, 'sandía': 7}\n"
     ]
    }
   ],
   "source": [
    "frutas_total.pop(\"uva\")\n",
    "print(frutas_total)"
   ]
  },
  {
   "cell_type": "markdown",
   "metadata": {},
   "source": [
    "11-  Agregar la fruta 'manzana' con una cantidad de 10 al diccionario. Si ya existe, no se realizarán \n",
    "cambios en los valores que teníamos."
   ]
  },
  {
   "cell_type": "code",
   "execution_count": 148,
   "metadata": {},
   "outputs": [
    {
     "name": "stdout",
     "output_type": "stream",
     "text": [
      "{'manzana': 2, 'banana': 3, 'pera': 4, 'kiwi': 6, 'sandía': 7}\n"
     ]
    }
   ],
   "source": [
    "frutas_total.get(\"manzanas\",\"10\")\n",
    "print(frutas_total)"
   ]
  },
  {
   "cell_type": "markdown",
   "metadata": {},
   "source": [
    "12-  Combinar métodos de listas y diccionarios: \n",
    "\n",
    "      o Obtén una lista de todas las cantidades en el diccionario y calcula suma total de las cantidades del diccionario frutas_total. \n",
    "      o Utilizando la lista creada en el apartado anterior encuentra la cantidad más grande y más pequeña. "
   ]
  },
  {
   "cell_type": "code",
   "execution_count": 153,
   "metadata": {},
   "outputs": [
    {
     "name": "stdout",
     "output_type": "stream",
     "text": [
      "22\n",
      "7\n",
      "2\n"
     ]
    }
   ],
   "source": [
    "print(sum (frutas_total.values()))\n",
    "\n",
    "print(max(frutas_total.values()))\n",
    "print(min(frutas_total.values()))"
   ]
  },
  {
   "cell_type": "markdown",
   "metadata": {},
   "source": [
    "# Parte 5: Métodos de Sets "
   ]
  },
  {
   "cell_type": "markdown",
   "metadata": {},
   "source": [
    "13-  Crea un set llamado conjunto1 con los números del 1 al 5. "
   ]
  },
  {
   "cell_type": "code",
   "execution_count": 157,
   "metadata": {},
   "outputs": [
    {
     "name": "stdout",
     "output_type": "stream",
     "text": [
      "{1, 2, 3, 4, 5} <class 'set'>\n"
     ]
    }
   ],
   "source": [
    "conjunto1 = {1,2,3,4,5}\n",
    "print(conjunto1,type(conjunto1))"
   ]
  },
  {
   "cell_type": "markdown",
   "metadata": {},
   "source": [
    "14-  Crea otro set llamado conjunto2 con los números del 4 al 8. "
   ]
  },
  {
   "cell_type": "code",
   "execution_count": 158,
   "metadata": {},
   "outputs": [
    {
     "name": "stdout",
     "output_type": "stream",
     "text": [
      "{4, 5, 6, 7, 8} <class 'set'>\n"
     ]
    }
   ],
   "source": [
    "conjunto2 = {4,5,6,7,8}\n",
    "print(conjunto2,type(conjunto2))"
   ]
  },
  {
   "cell_type": "markdown",
   "metadata": {},
   "source": [
    "15- Obtén la unión de conjunto1 y conjunto2. "
   ]
  },
  {
   "cell_type": "code",
   "execution_count": 161,
   "metadata": {},
   "outputs": [
    {
     "name": "stdout",
     "output_type": "stream",
     "text": [
      "{1, 2, 3, 4, 5, 6, 7, 8} <class 'set'>\n"
     ]
    }
   ],
   "source": [
    "union_conjuntos = conjunto1.union(conjunto2)\n",
    "print(union_conjuntos,type(union_conjuntos))"
   ]
  },
  {
   "cell_type": "markdown",
   "metadata": {},
   "source": [
    "16-  Obtén la intersección de conjunto1 y conjunto2. "
   ]
  },
  {
   "cell_type": "code",
   "execution_count": 165,
   "metadata": {},
   "outputs": [
    {
     "name": "stdout",
     "output_type": "stream",
     "text": [
      "Los elementos en común entre los 2 conjuntos son:  {4, 5}\n"
     ]
    }
   ],
   "source": [
    "print(\"Los elementos en común entre los 2 conjuntos son: \",conjunto1.intersection(conjunto2))"
   ]
  },
  {
   "cell_type": "markdown",
   "metadata": {},
   "source": [
    "17-  Obtén los elementos que están en conjunto1 pero no en el conjunto2. "
   ]
  },
  {
   "cell_type": "code",
   "execution_count": 168,
   "metadata": {},
   "outputs": [
    {
     "name": "stdout",
     "output_type": "stream",
     "text": [
      "Los elementos que están en el conjunto 1 pero no en el 2 son:  {1, 2, 3}\n"
     ]
    }
   ],
   "source": [
    "print(\"Los elementos que están en el conjunto 1 pero no en el 2 son: \",conjunto1.difference(conjunto2))"
   ]
  },
  {
   "cell_type": "markdown",
   "metadata": {},
   "source": [
    "# Parte 6: Sentencias de Control"
   ]
  },
  {
   "cell_type": "markdown",
   "metadata": {},
   "source": [
    "1-  Evaluación de Edades: \n",
    "\n",
    "    o Escribe un programa que solicite al usuario ingresar su edad. \n",
    "    o Si la edad es menor de 18, muestra \"Eres menor de edad\". \n",
    "    o Si la edad está entre 18 y 65 (incluyendo ambos extremos), muestra \"Eres adulto\". \n",
    "    o Si la edad es mayor que 65, muestra \"Eres un adulto mayor\". "
   ]
  },
  {
   "cell_type": "code",
   "execution_count": 169,
   "metadata": {},
   "outputs": [
    {
     "name": "stdout",
     "output_type": "stream",
     "text": [
      "Eres adulto\n"
     ]
    }
   ],
   "source": [
    "edad = int(input(\"Introduce tu edad: \"))\n",
    "\n",
    "if edad <18:\n",
    "    print(\"Eres menor de edad\")\n",
    "elif 18 <= edad <= 65:\n",
    "    print(\"Eres adulto\")\n",
    "else:\n",
    "    print(\"Eres adulto mayor\")"
   ]
  },
  {
   "cell_type": "markdown",
   "metadata": {},
   "source": [
    "2- Determinación de Día de la Semana \n",
    "\n",
    "    o Solicita al usuario que ingrese un número del 1 al 7. \n",
    "    o Utilizando una serie de if-elif-else, muestra el día de la semana correspondiente al número ingresado. Por ejemplo, si ingresa 1, muestra \"Lunes\". "
   ]
  },
  {
   "cell_type": "code",
   "execution_count": 170,
   "metadata": {},
   "outputs": [
    {
     "name": "stdout",
     "output_type": "stream",
     "text": [
      "Viernes\n"
     ]
    }
   ],
   "source": [
    "dia_semana = int(input(\"Introduce un número del 1 al 7: \"))\n",
    "\n",
    "if dia_semana == 1:\n",
    "    print(\"Lunes\")\n",
    "elif dia_semana == 2:\n",
    "    print(\"Martes\")\n",
    "elif dia_semana == 3:\n",
    "    print(\"Miércoles\")\n",
    "elif dia_semana == 4:\n",
    "    print(\"Jueves\")\n",
    "elif dia_semana == 5:\n",
    "    print(\"Viernes\")\n",
    "elif dia_semana == 6:\n",
    "    print(\"Sábado\")\n",
    "elif dia_semana == 7:\n",
    "    print(\"Domingo\")\n",
    "else:\n",
    "    print(\"Valor no válido.\")"
   ]
  },
  {
   "cell_type": "markdown",
   "metadata": {},
   "source": [
    "3- Juego de Adivinanza \n",
    "\n",
    "   o Genera un número aleatorio entre 1 y 100. \n",
    "   o Pídele al usuario que adivine el número. \n",
    "   o Si el usuario adivina correctamente en el primer intento, muestra \"¡Ganaste en el primer intento!\". \n",
    "   o Si el usuario no adivina en el primer intento, bríndale pistas (mayor o menor) y permite que intente nuevamente. Muestra cuántos intentos le llevó al final."
   ]
  },
  {
   "cell_type": "code",
   "execution_count": 171,
   "metadata": {},
   "outputs": [
    {
     "name": "stdout",
     "output_type": "stream",
     "text": [
      "71\n"
     ]
    }
   ],
   "source": [
    "import random\n",
    "numero_aleatorio = random.randint(1, 100)\n",
    "print(numero_aleatorio)\n",
    "\n",
    "usuario = int(input(\"Adivina en que número estoy pensando: \"))\n",
    "\n",
    "if usuario == numero_aleatorio:\n",
    "    print(\"¡Ganaste en el primer intento!\")\n",
    "    elif \n"
   ]
  },
  {
   "cell_type": "markdown",
   "metadata": {},
   "source": [
    "4- Juego de Adivinar la Palabra \n",
    "\n",
    "    o Elige una palabra secreta y ocúltala utilizando asteriscos, por ejemplo, \"secreto\" se muestra como \"*******\". \n",
    "    o Permite al usuario adivinar letras una por una. \n",
    "    o Si la letra adivinada está en la palabra secreta, muestra la palabra con las letras descubiertas y los asteriscos. \n",
    "    o Si la letra no está en la palabra secreta, resta una vida al jugador. \n",
    "    o El juego continúa hasta que el jugador adivine la palabra."
   ]
  },
  {
   "cell_type": "code",
   "execution_count": null,
   "metadata": {},
   "outputs": [],
   "source": [
    "palabra_secreta = \"zanahoria\"\n"
   ]
  }
 ],
 "metadata": {
  "kernelspec": {
   "display_name": "base",
   "language": "python",
   "name": "python3"
  },
  "language_info": {
   "codemirror_mode": {
    "name": "ipython",
    "version": 3
   },
   "file_extension": ".py",
   "mimetype": "text/x-python",
   "name": "python",
   "nbconvert_exporter": "python",
   "pygments_lexer": "ipython3",
   "version": "3.9.12"
  }
 },
 "nbformat": 4,
 "nbformat_minor": 2
}
